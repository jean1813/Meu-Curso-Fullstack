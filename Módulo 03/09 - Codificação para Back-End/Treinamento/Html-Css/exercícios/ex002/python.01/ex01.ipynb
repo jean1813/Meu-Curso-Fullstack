{
 "cells": [
  {
   "cell_type": "code",
   "execution_count": 26,
   "metadata": {},
   "outputs": [
    {
     "name": "stdout",
     "output_type": "stream",
     "text": [
      "ola mundo\n",
      "Olá, Jean Carlos, sua idade é 49 anos, e seus filhos são: arthur 15 anos e enzo 11 anos, e seus pais são: Francisco e Maria José\n"
     ]
    }
   ],
   "source": [
    "idade = 49\n",
    "pais = 'Francisco e Maria José'\n",
    "filhos = 'arthur 15 anos e enzo 11 anos'\n",
    "print(\"ola mundo\")\n",
    "print(f\"Olá, Jean Carlos, sua idade é {idade} anos, e seus filhos são: {filhos}, e seus pais são: {pais}\")"
   ]
  },
  {
   "cell_type": "code",
   "execution_count": 25,
   "metadata": {},
   "outputs": [
    {
     "name": "stdout",
     "output_type": "stream",
     "text": [
      "09\n"
     ]
    }
   ],
   "source": [
    "\n",
    "print(input('digite um numero: '))\n"
   ]
  }
 ],
 "metadata": {
  "kernelspec": {
   "display_name": "Python 3",
   "language": "python",
   "name": "python3"
  },
  "language_info": {
   "codemirror_mode": {
    "name": "ipython",
    "version": 3
   },
   "file_extension": ".py",
   "mimetype": "text/x-python",
   "name": "python",
   "nbconvert_exporter": "python",
   "pygments_lexer": "ipython3",
   "version": "3.12.0"
  }
 },
 "nbformat": 4,
 "nbformat_minor": 2
}
