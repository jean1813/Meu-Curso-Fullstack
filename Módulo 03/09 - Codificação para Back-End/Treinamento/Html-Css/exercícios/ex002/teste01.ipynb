{
 "cells": [
  {
   "cell_type": "code",
   "execution_count": 1,
   "metadata": {},
   "outputs": [
    {
     "name": "stdout",
     "output_type": "stream",
     "text": [
      "Olá mundo\n",
      "32\n"
     ]
    }
   ],
   "source": [
    "print(\"Olá mundo\")\n",
    "print(32)"
   ]
  },
  {
   "cell_type": "code",
   "execution_count": 31,
   "metadata": {},
   "outputs": [
    {
     "name": "stdout",
     "output_type": "stream",
     "text": [
      "Jean Carlos 10.5\n"
     ]
    }
   ],
   "source": [
    "inteiro = 123               # Tipo: int\n",
    "texto = \"Jean Carlos\"       # Tipo: str\n",
    "real = 10.5                 # Tipo: float\n",
    "boleano = True              # Tipo: bool\n",
    "print(texto, real)"
   ]
  },
  {
   "cell_type": "code",
   "execution_count": 32,
   "metadata": {},
   "outputs": [
    {
     "name": "stdout",
     "output_type": "stream",
     "text": [
      "50.0\n"
     ]
    }
   ],
   "source": [
    "soma = (10 * 10) / 2\n",
    "print(soma)"
   ]
  },
  {
   "cell_type": "code",
   "execution_count": 13,
   "metadata": {},
   "outputs": [
    {
     "name": "stdout",
     "output_type": "stream",
     "text": [
      "45\n"
     ]
    }
   ],
   "source": [
    "flamengo = 10\n",
    "vasco = 15\n",
    "river = 20\n",
    "print(flamengo + vasco + river)"
   ]
  },
  {
   "cell_type": "code",
   "execution_count": 39,
   "metadata": {},
   "outputs": [
    {
     "name": "stdout",
     "output_type": "stream",
     "text": [
      "Olá, jean, se sua idade for >= 49, voce é De maior\n",
      "O usuario digitou jean, e sua idade é 49 anos!  \n"
     ]
    }
   ],
   "source": [
    "nome = input(\"Digite seu nome: \")\n",
    "          \n",
    "idade = int(input(\"Digite a sua idade: \"))\n",
    "\n",
    "#nota = int(input(\"Digite sua Nota: \"))\n",
    "\n",
    "if idade >= 0:\n",
    "    \n",
    "   print(f\"Olá, {nome}, se sua idade for >= {idade}, voce é De maior\")\n",
    "   print(f\"O usuario digitou {nome}, e sua idade é {idade} anos!  \")\n",
    "\n"
   ]
  },
  {
   "cell_type": "code",
   "execution_count": 43,
   "metadata": {},
   "outputs": [],
   "source": [
    "nota = int(input(\"Digite sua Nota: \")) # digitando numero inteiro\n",
    "#nota = float(input(\"Digite sua Nota: \")) # digitando numero fracionado\n",
    "nota != 10\n",
    "if nota >= 10:\n",
    "    print(f\"se sua nota for maior ${nota}, voce esta aprovado\")\n",
    "else:\n",
    "    print(f\"se sua nota for menor {nota}, voce esta reprovado\")\n"
   ]
  },
  {
   "cell_type": "code",
   "execution_count": 13,
   "metadata": {},
   "outputs": [
    {
     "name": "stdout",
     "output_type": "stream",
     "text": [
      "jean voce tem 49 anos. jean voce nasceu em 1974. \n"
     ]
    }
   ],
   "source": [
    "nome = input(\"Qual o seu nome? \")\n",
    "\n",
    "idade = input(\"Qual a sua idade? \")\n",
    "\n",
    "ano_nascimento = 2023 - int(idade)\n",
    "\n",
    "print(f\"{nome} voce tem {idade} anos. {nome} voce nasceu em {ano_nascimento}. \")"
   ]
  },
  {
   "cell_type": "code",
   "execution_count": 14,
   "metadata": {},
   "outputs": [
    {
     "name": "stdout",
     "output_type": "stream",
     "text": [
      "22\n"
     ]
    }
   ],
   "source": [
    "numero_1 = input(\"Digite um numero: \")\n",
    "numero_2 = input(\"Digite outro numero: \")\n",
    "print(numero_1 + numero_2) # nesse caso aqui ele concatenou"
   ]
  },
  {
   "cell_type": "code",
   "execution_count": 18,
   "metadata": {},
   "outputs": [
    {
     "name": "stdout",
     "output_type": "stream",
     "text": [
      "4\n"
     ]
    }
   ],
   "source": [
    "numero_1 = int(input(\"Digite um numero: \"))\n",
    "numero_2 = int(input(\"Digite outro numero: \"))\n",
    "numero_2 = int(numero_2)\n",
    "print(numero_1 + numero_2)"
   ]
  },
  {
   "cell_type": "code",
   "execution_count": 21,
   "metadata": {},
   "outputs": [
    {
     "name": "stdout",
     "output_type": "stream",
     "text": [
      "verdadeiro\n"
     ]
    }
   ],
   "source": [
    "# Condições IF, ELIF e ELSE\n",
    "\n",
    "if True:\n",
    "    print(\"verdadeiro\")"
   ]
  }
 ],
 "metadata": {
  "kernelspec": {
   "display_name": "Python 3",
   "language": "python",
   "name": "python3"
  },
  "language_info": {
   "codemirror_mode": {
    "name": "ipython",
    "version": 3
   },
   "file_extension": ".py",
   "mimetype": "text/x-python",
   "name": "python",
   "nbconvert_exporter": "python",
   "pygments_lexer": "ipython3",
   "version": "3.12.0"
  }
 },
 "nbformat": 4,
 "nbformat_minor": 2
}
