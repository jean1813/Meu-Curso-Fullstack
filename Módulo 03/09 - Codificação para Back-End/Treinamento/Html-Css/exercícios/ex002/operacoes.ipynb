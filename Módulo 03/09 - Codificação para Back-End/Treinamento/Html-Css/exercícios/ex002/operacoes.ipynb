{
 "cells": [
  {
   "cell_type": "code",
   "execution_count": 3,
   "metadata": {},
   "outputs": [
    {
     "name": "stdout",
     "output_type": "stream",
     "text": [
      "Verdadeiro\n",
      "8\n"
     ]
    }
   ],
   "source": [
    "if True:\n",
    "    print(\"Verdadeiro\")\n",
    "    num_1 = 2\n",
    "    num_2 = 6\n",
    "    print(num_1 + num_2)"
   ]
  },
  {
   "cell_type": "code",
   "execution_count": 10,
   "metadata": {},
   "outputs": [
    {
     "name": "stdout",
     "output_type": "stream",
     "text": [
      "A minha expressão não é verdadeira. \n"
     ]
    }
   ],
   "source": [
    "if False:\n",
    "    print(\"Verdadeiro\")\n",
    "print('A minha expressão não é verdadeira. ')"
   ]
  },
  {
   "cell_type": "code",
   "execution_count": 15,
   "metadata": {},
   "outputs": [
    {
     "name": "stdout",
     "output_type": "stream",
     "text": [
      "44\n",
      "22 + 22\n",
      "2222\n"
     ]
    }
   ],
   "source": [
    "print(22 + 22)\n",
    "print('22 + 22')\n",
    "print('22' + '22')"
   ]
  },
  {
   "cell_type": "code",
   "execution_count": 7,
   "metadata": {},
   "outputs": [
    {
     "name": "stdout",
     "output_type": "stream",
     "text": [
      "Seu nome é jean, e sua idade é 49 anos \n"
     ]
    }
   ],
   "source": [
    "nome = input(\"Digite seu nome: \")\n",
    "          \n",
    "idade = int(input(\"Digite a sua idade: \"))\n",
    "\n",
    "print(f\"Seu nome é {nome}, e sua idade é {idade} anos \")"
   ]
  },
  {
   "cell_type": "code",
   "execution_count": 11,
   "metadata": {},
   "outputs": [
    {
     "name": "stdout",
     "output_type": "stream",
     "text": [
      "Seu nome é jean, e sua idade é 49 anos \n"
     ]
    }
   ],
   "source": [
    "nome = input(\"Digite seu nome: \")\n",
    "          \n",
    "idade = int(input(\"Digite a sua idade: \"))\n",
    "\n",
    "print(f\"Seu nome é {nome}, e sua idade é {idade} anos \")"
   ]
  },
  {
   "cell_type": "code",
   "execution_count": 24,
   "metadata": {},
   "outputs": [
    {
     "name": "stdout",
     "output_type": "stream",
     "text": [
      "O primeiro é jean, e sua idade é 15,anos, e o segundo nome é carlos, e sua idade é 11 anos.  \n"
     ]
    }
   ],
   "source": [
    "nome1 = input(\"Digite primeiro nome: \")\n",
    "nome2 = input(\"Digite segundo nome: \")\n",
    "          \n",
    "idade1 = int(input(\"Digite a primeira idade: \"))\n",
    "idade2 = int(input(\"Digite a segunda idade: \"))\n",
    "\n",
    "print(f\"O primeiro é {nome1}, e sua idade é {idade1},anos, e o segundo nome é {nome2}, e sua idade é {idade2} anos.  \")"
   ]
  },
  {
   "cell_type": "code",
   "execution_count": 13,
   "metadata": {},
   "outputs": [
    {
     "name": "stdout",
     "output_type": "stream",
     "text": [
      "arthur\n"
     ]
    }
   ],
   "source": [
    "tempo = int(input('Quantos anos tem seu carro?'))\n",
    "if tempo <= 3:\n",
    "    print('arthur')\n",
    "else:\n",
    "    print('enzo')"
   ]
  },
  {
   "cell_type": "code",
   "execution_count": 26,
   "metadata": {},
   "outputs": [
    {
     "name": "stdout",
     "output_type": "stream",
     "text": [
      "Arthur é seu filho\n",
      "--FIM--\n"
     ]
    }
   ],
   "source": [
    "idade = int(input('Quantos anos tem seu filho? '))\n",
    "if idade <= 15:\n",
    "    print('Arthur é seu filho')\n",
    "else:\n",
    "    print('Enzo é seu filho')\n",
    "print('--FIM--')"
   ]
  },
  {
   "cell_type": "code",
   "execution_count": 15,
   "metadata": {},
   "outputs": [
    {
     "name": "stdout",
     "output_type": "stream",
     "text": [
      "2023-11-23 09:31:48.358140\n"
     ]
    }
   ],
   "source": [
    "from datetime import datetime\n",
    "hoje = datetime.now()\n",
    "print(hoje)"
   ]
  },
  {
   "cell_type": "code",
   "execution_count": 22,
   "metadata": {},
   "outputs": [
    {
     "name": "stdout",
     "output_type": "stream",
     "text": [
      "jean\n"
     ]
    }
   ],
   "source": [
    "nome = str(input('Qual seu nome? '))\n",
    "print(nome)"
   ]
  },
  {
   "cell_type": "code",
   "execution_count": 19,
   "metadata": {},
   "outputs": [
    {
     "name": "stdout",
     "output_type": "stream",
     "text": [
      "Levantar e preparar o café!\n"
     ]
    }
   ],
   "source": [
    "devo_Levantar = False\n",
    "if devo_Levantar == False:\n",
    "    print('Levantar e preparar o café!')\n",
    "else:\n",
    "    print('Dormir mais um tanto!')"
   ]
  },
  {
   "cell_type": "code",
   "execution_count": null,
   "metadata": {},
   "outputs": [],
   "source": []
  }
 ],
 "metadata": {
  "kernelspec": {
   "display_name": "Python 3",
   "language": "python",
   "name": "python3"
  },
  "language_info": {
   "codemirror_mode": {
    "name": "ipython",
    "version": 3
   },
   "file_extension": ".py",
   "mimetype": "text/x-python",
   "name": "python",
   "nbconvert_exporter": "python",
   "pygments_lexer": "ipython3",
   "version": "3.12.0"
  }
 },
 "nbformat": 4,
 "nbformat_minor": 2
}
